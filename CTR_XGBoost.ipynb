{
 "cells": [
  {
   "cell_type": "markdown",
   "id": "6c80bb1c-3c04-4a8d-a8d0-0f43dbcf6d9e",
   "metadata": {},
   "source": [
    "# Modelos de Machine Learning: Benchmarks"
   ]
  },
  {
   "cell_type": "markdown",
   "id": "423d49f0-29e0-49fc-b4ed-7e09b0a508d1",
   "metadata": {},
   "source": [
    "## Intro"
   ]
  },
  {
   "cell_type": "markdown",
   "id": "0758041d-77ac-4267-811f-4235b71c5f7c",
   "metadata": {},
   "source": [
    "### Imports"
   ]
  },
  {
   "cell_type": "code",
   "execution_count": 1,
   "id": "164679ee-5a17-4682-9220-e2cdf4eca59f",
   "metadata": {},
   "outputs": [],
   "source": [
    "import pandas as pd\n",
    "import numpy as np\n",
    "from sklearn.model_selection import train_test_split\n",
    "from sklearn.linear_model import LinearRegression\n",
    "from sklearn.preprocessing import OneHotEncoder\n",
    "from sklearn.compose import ColumnTransformer\n",
    "from sklearn.pipeline import Pipeline\n",
    "from sklearn.metrics import mean_squared_error\n",
    "from sklearn.metrics import mean_absolute_error\n",
    "from sklearn.metrics import r2_score\n",
    "from sklearn.decomposition import PCA\n",
    "import math\n",
    "import altair as alt\n",
    "import joblib"
   ]
  },
  {
   "cell_type": "markdown",
   "id": "26a139eb-7136-4ab2-afcc-0454284221b6",
   "metadata": {},
   "source": [
    "### Carga de Datos"
   ]
  },
  {
   "cell_type": "code",
   "execution_count": 2,
   "id": "96f17c7a-1b85-4e35-8de0-d0ece22d1530",
   "metadata": {},
   "outputs": [],
   "source": [
    "def load_data(df_in):\n",
    "    df = pd.read_csv(df_in+'.csv')\n",
    "    df = df.drop(\"Unnamed: 0\", axis=1)\n",
    "    return df\n",
    "\n",
    "# Cargar los datos\n",
    "df = load_data('df_C_S_v3')\n",
    "df = df[df['Client'] != 'Boxto']\n",
    "#df = df[df['Client'] != 'AOV']\n",
    "df = df.reset_index()"
   ]
  },
  {
   "cell_type": "markdown",
   "id": "0a902dad-f813-47e1-8fdf-13da9d40cbed",
   "metadata": {},
   "source": [
    "## CTR"
   ]
  },
  {
   "cell_type": "markdown",
   "id": "c05b8c56-04f3-440a-943d-218ce84fe5cd",
   "metadata": {
    "jp-MarkdownHeadingCollapsed": true
   },
   "source": [
    "### CTR: Elección Output y features "
   ]
  },
  {
   "cell_type": "code",
   "execution_count": 3,
   "id": "4766c1ba-e8d8-4a82-8f5c-bb2e2ec48763",
   "metadata": {},
   "outputs": [],
   "source": [
    "Variable_Target = 'CTR'\n",
    "\n",
    "# Calcular la media y la desviación estándar de la variable objetivo y\n",
    "mean_y, std_y = np.mean(df[Variable_Target]), np.std(df[Variable_Target])\n",
    "outlier_threshold = 3 * std_y\n",
    "\n",
    "max_y = mean_y + (3 * std_y)\n",
    "min_y = mean_y - (3 * std_y)\n",
    "\n",
    "df = df[df[Variable_Target] <= max_y]\n",
    "df = df[df[Variable_Target] >= min_y]"
   ]
  },
  {
   "cell_type": "code",
   "execution_count": 4,
   "id": "cf5b2b76-a979-447a-80c1-3831ea488e38",
   "metadata": {},
   "outputs": [],
   "source": [
    "X = df.copy()\n",
    "\n",
    "# Preparar los datos: Features\n",
    "X = X[['Año','Mes', 'Objective', 'Cost', 'Country', 'Media_type', 'Traffic_source', 'Client','Format_New','Platform','Strategy','Plataforma','Campaign_Type','Ecommerce','Service_Product']]\n",
    "       #'Tipo Search', 'Bench Gral CPC',       #'Bench Search CPC', 'Bench GralSch CPL', 'Bench Search CPL',       #'Bench GralSch CTR', 'Bench Search CTR', 'Bench GralSch CR',       #'Bench Search AvgCR', 'Tipo FB', 'Bench GralFB CPC', 'Bench FB CPC',\n",
    "       #'Bench GralFB CPAction', 'Bench FB CPAction', 'Bench GralFB CTR',       #'Bench FB CTR', 'Bench GralFB CR', 'Bench FB AvgCR', 'Tipo YT',       #'Bench GralYT CPV', 'Bench YT CPV', 'Bench GralYT CTR', 'Bench YT CTR',       #'Bench GralYT VR', 'Bench FB AvgVR']]\n",
    "\n",
    "X = X.reset_index()\n",
    "\n",
    "categorical_features = ['Objective', 'Country', 'Media_type', 'Traffic_source', 'Client','Format_New','Platform','Strategy','Plataforma','Campaign_Type','Ecommerce','Service_Product']  #,'Tipo Search','Tipo FB','Tipo YT']\n",
    "\n",
    "# Preprocesamiento de variables categóricas\n",
    "X_dum = pd.get_dummies(X, columns=categorical_features)\n",
    "\n",
    "#Elijo el valor a predecir. CPC: La hipótesis es que el valor de COST es conocido y controlable: El output en rigor será Clicks y expresaremos el resultado en CPC Cost/Clicks\n",
    "y = df[Variable_Target]"
   ]
  },
  {
   "cell_type": "code",
   "execution_count": 5,
   "id": "55fad986-1f8a-4afc-82bb-3e6ffa81677e",
   "metadata": {},
   "outputs": [],
   "source": [
    "import matplotlib.pyplot as plt\n",
    "from sklearn.preprocessing import StandardScaler\n",
    "\n",
    "scaler = StandardScaler()\n",
    "X_Scaled = scaler.fit_transform(X_dum[['Año','Mes','Cost']])\n",
    "\n",
    "pca = PCA(n_components=2)  # Aquí estamos conservando solo una componente principal\n",
    "X_pca = pca.fit_transform(X_Scaled)\n",
    "X_pca = pd.DataFrame(X_pca)\n",
    "\n",
    "X_dum['X_pca_0'] = X_pca[0]\n",
    "X_dum['X_pca_1'] = X_pca[1]\n",
    "X['X_pca_0'] = X_pca[0]\n",
    "X['X_pca_1'] = X_pca[1]"
   ]
  },
  {
   "cell_type": "code",
   "execution_count": 6,
   "id": "a9fb6d86-98a4-4f6d-8263-ed6dec519756",
   "metadata": {},
   "outputs": [
    {
     "data": {
      "text/plain": [
       "['pca_model.joblib']"
      ]
     },
     "execution_count": 6,
     "metadata": {},
     "output_type": "execute_result"
    }
   ],
   "source": [
    "joblib.dump(scaler, 'scaler_model.joblib')\n",
    "joblib.dump(pca, 'pca_model.joblib')"
   ]
  },
  {
   "cell_type": "code",
   "execution_count": 7,
   "id": "de03fa58-e931-4b50-9483-44816e2f507d",
   "metadata": {},
   "outputs": [],
   "source": [
    "# Separo en conjuntos de Train y de Test\n",
    "X_train = X_dum"
   ]
  },
  {
   "cell_type": "markdown",
   "id": "682416b1-a05b-4084-88ba-f9cbc2f463ac",
   "metadata": {
    "jp-MarkdownHeadingCollapsed": true
   },
   "source": [
    "### XGBoost CTR\n",
    "\n",
    "MSE_test = 0.028"
   ]
  },
  {
   "cell_type": "code",
   "execution_count": 22,
   "id": "1dcbec20-0504-47f0-8d98-da7d9b9584b5",
   "metadata": {},
   "outputs": [],
   "source": [
    "import xgboost as xgb"
   ]
  },
  {
   "cell_type": "code",
   "execution_count": 23,
   "id": "ebb893c7-7ffb-4b33-ac0b-a57a1dda4d5d",
   "metadata": {},
   "outputs": [],
   "source": [
    "xgboost = xgb.XGBRegressor(learning_rate=0.08, max_depth=6, n_estimators=40)"
   ]
  },
  {
   "cell_type": "code",
   "execution_count": 24,
   "id": "f6984058-03db-406b-8e80-f1ea84d58c07",
   "metadata": {},
   "outputs": [
    {
     "data": {
      "text/html": [
       "<style>#sk-container-id-3 {color: black;}#sk-container-id-3 pre{padding: 0;}#sk-container-id-3 div.sk-toggleable {background-color: white;}#sk-container-id-3 label.sk-toggleable__label {cursor: pointer;display: block;width: 100%;margin-bottom: 0;padding: 0.3em;box-sizing: border-box;text-align: center;}#sk-container-id-3 label.sk-toggleable__label-arrow:before {content: \"▸\";float: left;margin-right: 0.25em;color: #696969;}#sk-container-id-3 label.sk-toggleable__label-arrow:hover:before {color: black;}#sk-container-id-3 div.sk-estimator:hover label.sk-toggleable__label-arrow:before {color: black;}#sk-container-id-3 div.sk-toggleable__content {max-height: 0;max-width: 0;overflow: hidden;text-align: left;background-color: #f0f8ff;}#sk-container-id-3 div.sk-toggleable__content pre {margin: 0.2em;color: black;border-radius: 0.25em;background-color: #f0f8ff;}#sk-container-id-3 input.sk-toggleable__control:checked~div.sk-toggleable__content {max-height: 200px;max-width: 100%;overflow: auto;}#sk-container-id-3 input.sk-toggleable__control:checked~label.sk-toggleable__label-arrow:before {content: \"▾\";}#sk-container-id-3 div.sk-estimator input.sk-toggleable__control:checked~label.sk-toggleable__label {background-color: #d4ebff;}#sk-container-id-3 div.sk-label input.sk-toggleable__control:checked~label.sk-toggleable__label {background-color: #d4ebff;}#sk-container-id-3 input.sk-hidden--visually {border: 0;clip: rect(1px 1px 1px 1px);clip: rect(1px, 1px, 1px, 1px);height: 1px;margin: -1px;overflow: hidden;padding: 0;position: absolute;width: 1px;}#sk-container-id-3 div.sk-estimator {font-family: monospace;background-color: #f0f8ff;border: 1px dotted black;border-radius: 0.25em;box-sizing: border-box;margin-bottom: 0.5em;}#sk-container-id-3 div.sk-estimator:hover {background-color: #d4ebff;}#sk-container-id-3 div.sk-parallel-item::after {content: \"\";width: 100%;border-bottom: 1px solid gray;flex-grow: 1;}#sk-container-id-3 div.sk-label:hover label.sk-toggleable__label {background-color: #d4ebff;}#sk-container-id-3 div.sk-serial::before {content: \"\";position: absolute;border-left: 1px solid gray;box-sizing: border-box;top: 0;bottom: 0;left: 50%;z-index: 0;}#sk-container-id-3 div.sk-serial {display: flex;flex-direction: column;align-items: center;background-color: white;padding-right: 0.2em;padding-left: 0.2em;position: relative;}#sk-container-id-3 div.sk-item {position: relative;z-index: 1;}#sk-container-id-3 div.sk-parallel {display: flex;align-items: stretch;justify-content: center;background-color: white;position: relative;}#sk-container-id-3 div.sk-item::before, #sk-container-id-3 div.sk-parallel-item::before {content: \"\";position: absolute;border-left: 1px solid gray;box-sizing: border-box;top: 0;bottom: 0;left: 50%;z-index: -1;}#sk-container-id-3 div.sk-parallel-item {display: flex;flex-direction: column;z-index: 1;position: relative;background-color: white;}#sk-container-id-3 div.sk-parallel-item:first-child::after {align-self: flex-end;width: 50%;}#sk-container-id-3 div.sk-parallel-item:last-child::after {align-self: flex-start;width: 50%;}#sk-container-id-3 div.sk-parallel-item:only-child::after {width: 0;}#sk-container-id-3 div.sk-dashed-wrapped {border: 1px dashed gray;margin: 0 0.4em 0.5em 0.4em;box-sizing: border-box;padding-bottom: 0.4em;background-color: white;}#sk-container-id-3 div.sk-label label {font-family: monospace;font-weight: bold;display: inline-block;line-height: 1.2em;}#sk-container-id-3 div.sk-label-container {text-align: center;}#sk-container-id-3 div.sk-container {/* jupyter's `normalize.less` sets `[hidden] { display: none; }` but bootstrap.min.css set `[hidden] { display: none !important; }` so we also need the `!important` here to be able to override the default hidden behavior on the sphinx rendered scikit-learn.org. See: https://github.com/scikit-learn/scikit-learn/issues/21755 */display: inline-block !important;position: relative;}#sk-container-id-3 div.sk-text-repr-fallback {display: none;}</style><div id=\"sk-container-id-3\" class=\"sk-top-container\"><div class=\"sk-text-repr-fallback\"><pre>XGBRegressor(base_score=None, booster=None, callbacks=None,\n",
       "             colsample_bylevel=None, colsample_bynode=None,\n",
       "             colsample_bytree=None, device=None, early_stopping_rounds=None,\n",
       "             enable_categorical=False, eval_metric=None, feature_types=None,\n",
       "             gamma=None, grow_policy=None, importance_type=None,\n",
       "             interaction_constraints=None, learning_rate=0.08, max_bin=None,\n",
       "             max_cat_threshold=None, max_cat_to_onehot=None,\n",
       "             max_delta_step=None, max_depth=6, max_leaves=None,\n",
       "             min_child_weight=None, missing=nan, monotone_constraints=None,\n",
       "             multi_strategy=None, n_estimators=40, n_jobs=None,\n",
       "             num_parallel_tree=None, random_state=None, ...)</pre><b>In a Jupyter environment, please rerun this cell to show the HTML representation or trust the notebook. <br />On GitHub, the HTML representation is unable to render, please try loading this page with nbviewer.org.</b></div><div class=\"sk-container\" hidden><div class=\"sk-item\"><div class=\"sk-estimator sk-toggleable\"><input class=\"sk-toggleable__control sk-hidden--visually\" id=\"sk-estimator-id-3\" type=\"checkbox\" checked><label for=\"sk-estimator-id-3\" class=\"sk-toggleable__label sk-toggleable__label-arrow\">XGBRegressor</label><div class=\"sk-toggleable__content\"><pre>XGBRegressor(base_score=None, booster=None, callbacks=None,\n",
       "             colsample_bylevel=None, colsample_bynode=None,\n",
       "             colsample_bytree=None, device=None, early_stopping_rounds=None,\n",
       "             enable_categorical=False, eval_metric=None, feature_types=None,\n",
       "             gamma=None, grow_policy=None, importance_type=None,\n",
       "             interaction_constraints=None, learning_rate=0.08, max_bin=None,\n",
       "             max_cat_threshold=None, max_cat_to_onehot=None,\n",
       "             max_delta_step=None, max_depth=6, max_leaves=None,\n",
       "             min_child_weight=None, missing=nan, monotone_constraints=None,\n",
       "             multi_strategy=None, n_estimators=40, n_jobs=None,\n",
       "             num_parallel_tree=None, random_state=None, ...)</pre></div></div></div></div></div>"
      ],
      "text/plain": [
       "XGBRegressor(base_score=None, booster=None, callbacks=None,\n",
       "             colsample_bylevel=None, colsample_bynode=None,\n",
       "             colsample_bytree=None, device=None, early_stopping_rounds=None,\n",
       "             enable_categorical=False, eval_metric=None, feature_types=None,\n",
       "             gamma=None, grow_policy=None, importance_type=None,\n",
       "             interaction_constraints=None, learning_rate=0.08, max_bin=None,\n",
       "             max_cat_threshold=None, max_cat_to_onehot=None,\n",
       "             max_delta_step=None, max_depth=6, max_leaves=None,\n",
       "             min_child_weight=None, missing=nan, monotone_constraints=None,\n",
       "             multi_strategy=None, n_estimators=40, n_jobs=None,\n",
       "             num_parallel_tree=None, random_state=None, ...)"
      ]
     },
     "execution_count": 24,
     "metadata": {},
     "output_type": "execute_result"
    }
   ],
   "source": [
    "xgboost.fit(X_train.drop('index',axis=1), y)\n"
   ]
  },
  {
   "cell_type": "code",
   "execution_count": 25,
   "id": "3e6c5717-c8f4-46e1-bacf-0832c2c89f7b",
   "metadata": {},
   "outputs": [],
   "source": [
    "# save to JSON\n",
    "xgboost.save_model(\"model_xgboost_CTR.json\")\n",
    "interval_cpc = 0.074 #CL 83%"
   ]
  },
  {
   "cell_type": "markdown",
   "id": "0bb1a7af-de05-4b81-a1f8-d6eb5ec83c24",
   "metadata": {},
   "source": [
    "### Tuning"
   ]
  },
  {
   "cell_type": "code",
   "execution_count": 11,
   "id": "9c34d8d4-1594-4235-ba63-de8feddc502d",
   "metadata": {},
   "outputs": [],
   "source": [
    "from sklearn.model_selection import GridSearchCV\n",
    "from sklearn.model_selection import KFold"
   ]
  },
  {
   "cell_type": "code",
   "execution_count": 12,
   "id": "b7ba3a23-96d4-430d-be5a-11aba398bfa3",
   "metadata": {},
   "outputs": [],
   "source": [
    "# Definir los hiperparámetros a ajustar\n",
    "parameters = {'learning_rate': [0.06, 0.07, 0.08],\n",
    "              'max_depth': [6, 8, 10],\n",
    "              'n_estimators': [30, 40, 50, 60]}"
   ]
  },
  {
   "cell_type": "code",
   "execution_count": 13,
   "id": "57b988c8-b03a-4b79-99a9-b906def93ada",
   "metadata": {},
   "outputs": [],
   "source": [
    "# Configurar la validación cruzada\n",
    "kfold = KFold(n_splits=5, shuffle=True, random_state=42)"
   ]
  },
  {
   "cell_type": "code",
   "execution_count": 14,
   "id": "52cc0147-2d0b-4009-83ee-e57fd249c572",
   "metadata": {
    "scrolled": true
   },
   "outputs": [
    {
     "name": "stdout",
     "output_type": "stream",
     "text": [
      "Fitting 5 folds for each of 36 candidates, totalling 180 fits\n",
      "[CV 1/5] END learning_rate=0.06, max_depth=6, n_estimators=30;, score=-0.004 total time=   0.0s\n",
      "[CV 2/5] END learning_rate=0.06, max_depth=6, n_estimators=30;, score=-0.004 total time=   0.0s\n",
      "[CV 3/5] END learning_rate=0.06, max_depth=6, n_estimators=30;, score=-0.003 total time=   0.0s\n",
      "[CV 4/5] END learning_rate=0.06, max_depth=6, n_estimators=30;, score=-0.003 total time=   0.0s\n",
      "[CV 5/5] END learning_rate=0.06, max_depth=6, n_estimators=30;, score=-0.003 total time=   0.0s\n",
      "[CV 1/5] END learning_rate=0.06, max_depth=6, n_estimators=40;, score=-0.003 total time=   0.0s\n",
      "[CV 2/5] END learning_rate=0.06, max_depth=6, n_estimators=40;, score=-0.003 total time=   0.0s\n",
      "[CV 3/5] END learning_rate=0.06, max_depth=6, n_estimators=40;, score=-0.003 total time=   0.0s\n",
      "[CV 4/5] END learning_rate=0.06, max_depth=6, n_estimators=40;, score=-0.003 total time=   0.0s\n",
      "[CV 5/5] END learning_rate=0.06, max_depth=6, n_estimators=40;, score=-0.003 total time=   0.0s\n",
      "[CV 1/5] END learning_rate=0.06, max_depth=6, n_estimators=50;, score=-0.003 total time=   0.0s\n",
      "[CV 2/5] END learning_rate=0.06, max_depth=6, n_estimators=50;, score=-0.003 total time=   0.1s\n",
      "[CV 3/5] END learning_rate=0.06, max_depth=6, n_estimators=50;, score=-0.003 total time=   0.0s\n",
      "[CV 4/5] END learning_rate=0.06, max_depth=6, n_estimators=50;, score=-0.003 total time=   0.0s\n",
      "[CV 5/5] END learning_rate=0.06, max_depth=6, n_estimators=50;, score=-0.003 total time=   0.0s\n",
      "[CV 1/5] END learning_rate=0.06, max_depth=6, n_estimators=60;, score=-0.003 total time=   0.1s\n",
      "[CV 2/5] END learning_rate=0.06, max_depth=6, n_estimators=60;, score=-0.003 total time=   0.1s\n",
      "[CV 3/5] END learning_rate=0.06, max_depth=6, n_estimators=60;, score=-0.003 total time=   0.1s\n",
      "[CV 4/5] END learning_rate=0.06, max_depth=6, n_estimators=60;, score=-0.002 total time=   0.1s\n",
      "[CV 5/5] END learning_rate=0.06, max_depth=6, n_estimators=60;, score=-0.002 total time=   0.1s\n",
      "[CV 1/5] END learning_rate=0.06, max_depth=8, n_estimators=30;, score=-0.003 total time=   0.1s\n",
      "[CV 2/5] END learning_rate=0.06, max_depth=8, n_estimators=30;, score=-0.004 total time=   0.1s\n",
      "[CV 3/5] END learning_rate=0.06, max_depth=8, n_estimators=30;, score=-0.003 total time=   0.1s\n",
      "[CV 4/5] END learning_rate=0.06, max_depth=8, n_estimators=30;, score=-0.003 total time=   0.1s\n",
      "[CV 5/5] END learning_rate=0.06, max_depth=8, n_estimators=30;, score=-0.003 total time=   0.1s\n",
      "[CV 1/5] END learning_rate=0.06, max_depth=8, n_estimators=40;, score=-0.003 total time=   0.1s\n",
      "[CV 2/5] END learning_rate=0.06, max_depth=8, n_estimators=40;, score=-0.003 total time=   0.1s\n",
      "[CV 3/5] END learning_rate=0.06, max_depth=8, n_estimators=40;, score=-0.003 total time=   0.1s\n",
      "[CV 4/5] END learning_rate=0.06, max_depth=8, n_estimators=40;, score=-0.003 total time=   0.1s\n",
      "[CV 5/5] END learning_rate=0.06, max_depth=8, n_estimators=40;, score=-0.003 total time=   0.1s\n",
      "[CV 1/5] END learning_rate=0.06, max_depth=8, n_estimators=50;, score=-0.003 total time=   0.1s\n",
      "[CV 2/5] END learning_rate=0.06, max_depth=8, n_estimators=50;, score=-0.003 total time=   0.2s\n",
      "[CV 3/5] END learning_rate=0.06, max_depth=8, n_estimators=50;, score=-0.003 total time=   0.1s\n",
      "[CV 4/5] END learning_rate=0.06, max_depth=8, n_estimators=50;, score=-0.003 total time=   0.1s\n",
      "[CV 5/5] END learning_rate=0.06, max_depth=8, n_estimators=50;, score=-0.003 total time=   0.1s\n",
      "[CV 1/5] END learning_rate=0.06, max_depth=8, n_estimators=60;, score=-0.003 total time=   0.2s\n",
      "[CV 2/5] END learning_rate=0.06, max_depth=8, n_estimators=60;, score=-0.003 total time=   0.2s\n",
      "[CV 3/5] END learning_rate=0.06, max_depth=8, n_estimators=60;, score=-0.003 total time=   0.1s\n",
      "[CV 4/5] END learning_rate=0.06, max_depth=8, n_estimators=60;, score=-0.003 total time=   0.1s\n",
      "[CV 5/5] END learning_rate=0.06, max_depth=8, n_estimators=60;, score=-0.003 total time=   0.2s\n",
      "[CV 1/5] END learning_rate=0.06, max_depth=10, n_estimators=30;, score=-0.003 total time=   0.2s\n",
      "[CV 2/5] END learning_rate=0.06, max_depth=10, n_estimators=30;, score=-0.004 total time=   0.2s\n",
      "[CV 3/5] END learning_rate=0.06, max_depth=10, n_estimators=30;, score=-0.003 total time=   0.1s\n",
      "[CV 4/5] END learning_rate=0.06, max_depth=10, n_estimators=30;, score=-0.003 total time=   0.2s\n",
      "[CV 5/5] END learning_rate=0.06, max_depth=10, n_estimators=30;, score=-0.003 total time=   0.2s\n",
      "[CV 1/5] END learning_rate=0.06, max_depth=10, n_estimators=40;, score=-0.003 total time=   0.3s\n",
      "[CV 2/5] END learning_rate=0.06, max_depth=10, n_estimators=40;, score=-0.003 total time=   0.3s\n",
      "[CV 3/5] END learning_rate=0.06, max_depth=10, n_estimators=40;, score=-0.003 total time=   0.3s\n",
      "[CV 4/5] END learning_rate=0.06, max_depth=10, n_estimators=40;, score=-0.003 total time=   0.3s\n",
      "[CV 5/5] END learning_rate=0.06, max_depth=10, n_estimators=40;, score=-0.003 total time=   0.3s\n",
      "[CV 1/5] END learning_rate=0.06, max_depth=10, n_estimators=50;, score=-0.003 total time=   0.3s\n",
      "[CV 2/5] END learning_rate=0.06, max_depth=10, n_estimators=50;, score=-0.003 total time=   0.3s\n",
      "[CV 3/5] END learning_rate=0.06, max_depth=10, n_estimators=50;, score=-0.003 total time=   0.3s\n",
      "[CV 4/5] END learning_rate=0.06, max_depth=10, n_estimators=50;, score=-0.003 total time=   0.3s\n",
      "[CV 5/5] END learning_rate=0.06, max_depth=10, n_estimators=50;, score=-0.003 total time=   0.3s\n",
      "[CV 1/5] END learning_rate=0.06, max_depth=10, n_estimators=60;, score=-0.003 total time=   0.4s\n",
      "[CV 2/5] END learning_rate=0.06, max_depth=10, n_estimators=60;, score=-0.003 total time=   0.4s\n",
      "[CV 3/5] END learning_rate=0.06, max_depth=10, n_estimators=60;, score=-0.003 total time=   0.5s\n",
      "[CV 4/5] END learning_rate=0.06, max_depth=10, n_estimators=60;, score=-0.003 total time=   0.4s\n",
      "[CV 5/5] END learning_rate=0.06, max_depth=10, n_estimators=60;, score=-0.003 total time=   0.4s\n",
      "[CV 1/5] END learning_rate=0.07, max_depth=6, n_estimators=30;, score=-0.003 total time=   0.0s\n",
      "[CV 2/5] END learning_rate=0.07, max_depth=6, n_estimators=30;, score=-0.004 total time=   0.0s\n",
      "[CV 3/5] END learning_rate=0.07, max_depth=6, n_estimators=30;, score=-0.003 total time=   0.0s\n",
      "[CV 4/5] END learning_rate=0.07, max_depth=6, n_estimators=30;, score=-0.003 total time=   0.0s\n",
      "[CV 5/5] END learning_rate=0.07, max_depth=6, n_estimators=30;, score=-0.003 total time=   0.0s\n",
      "[CV 1/5] END learning_rate=0.07, max_depth=6, n_estimators=40;, score=-0.003 total time=   0.0s\n",
      "[CV 2/5] END learning_rate=0.07, max_depth=6, n_estimators=40;, score=-0.003 total time=   0.0s\n",
      "[CV 3/5] END learning_rate=0.07, max_depth=6, n_estimators=40;, score=-0.003 total time=   0.0s\n",
      "[CV 4/5] END learning_rate=0.07, max_depth=6, n_estimators=40;, score=-0.003 total time=   0.0s\n",
      "[CV 5/5] END learning_rate=0.07, max_depth=6, n_estimators=40;, score=-0.003 total time=   0.0s\n",
      "[CV 1/5] END learning_rate=0.07, max_depth=6, n_estimators=50;, score=-0.003 total time=   0.1s\n",
      "[CV 2/5] END learning_rate=0.07, max_depth=6, n_estimators=50;, score=-0.003 total time=   0.1s\n",
      "[CV 3/5] END learning_rate=0.07, max_depth=6, n_estimators=50;, score=-0.003 total time=   0.1s\n",
      "[CV 4/5] END learning_rate=0.07, max_depth=6, n_estimators=50;, score=-0.002 total time=   0.0s\n",
      "[CV 5/5] END learning_rate=0.07, max_depth=6, n_estimators=50;, score=-0.003 total time=   0.1s\n",
      "[CV 1/5] END learning_rate=0.07, max_depth=6, n_estimators=60;, score=-0.003 total time=   0.1s\n",
      "[CV 2/5] END learning_rate=0.07, max_depth=6, n_estimators=60;, score=-0.003 total time=   0.1s\n",
      "[CV 3/5] END learning_rate=0.07, max_depth=6, n_estimators=60;, score=-0.003 total time=   0.1s\n",
      "[CV 4/5] END learning_rate=0.07, max_depth=6, n_estimators=60;, score=-0.002 total time=   0.1s\n",
      "[CV 5/5] END learning_rate=0.07, max_depth=6, n_estimators=60;, score=-0.002 total time=   0.1s\n",
      "[CV 1/5] END learning_rate=0.07, max_depth=8, n_estimators=30;, score=-0.003 total time=   0.1s\n",
      "[CV 2/5] END learning_rate=0.07, max_depth=8, n_estimators=30;, score=-0.003 total time=   0.1s\n",
      "[CV 3/5] END learning_rate=0.07, max_depth=8, n_estimators=30;, score=-0.003 total time=   0.1s\n",
      "[CV 4/5] END learning_rate=0.07, max_depth=8, n_estimators=30;, score=-0.003 total time=   0.1s\n",
      "[CV 5/5] END learning_rate=0.07, max_depth=8, n_estimators=30;, score=-0.003 total time=   0.1s\n",
      "[CV 1/5] END learning_rate=0.07, max_depth=8, n_estimators=40;, score=-0.003 total time=   0.1s\n",
      "[CV 2/5] END learning_rate=0.07, max_depth=8, n_estimators=40;, score=-0.003 total time=   0.1s\n",
      "[CV 3/5] END learning_rate=0.07, max_depth=8, n_estimators=40;, score=-0.003 total time=   0.1s\n",
      "[CV 4/5] END learning_rate=0.07, max_depth=8, n_estimators=40;, score=-0.003 total time=   0.1s\n",
      "[CV 5/5] END learning_rate=0.07, max_depth=8, n_estimators=40;, score=-0.003 total time=   0.1s\n",
      "[CV 1/5] END learning_rate=0.07, max_depth=8, n_estimators=50;, score=-0.003 total time=   0.1s\n",
      "[CV 2/5] END learning_rate=0.07, max_depth=8, n_estimators=50;, score=-0.003 total time=   0.2s\n",
      "[CV 3/5] END learning_rate=0.07, max_depth=8, n_estimators=50;, score=-0.003 total time=   0.1s\n",
      "[CV 4/5] END learning_rate=0.07, max_depth=8, n_estimators=50;, score=-0.003 total time=   0.1s\n",
      "[CV 5/5] END learning_rate=0.07, max_depth=8, n_estimators=50;, score=-0.003 total time=   0.1s\n",
      "[CV 1/5] END learning_rate=0.07, max_depth=8, n_estimators=60;, score=-0.003 total time=   0.2s\n",
      "[CV 2/5] END learning_rate=0.07, max_depth=8, n_estimators=60;, score=-0.003 total time=   0.2s\n",
      "[CV 3/5] END learning_rate=0.07, max_depth=8, n_estimators=60;, score=-0.003 total time=   0.2s\n",
      "[CV 4/5] END learning_rate=0.07, max_depth=8, n_estimators=60;, score=-0.003 total time=   0.2s\n",
      "[CV 5/5] END learning_rate=0.07, max_depth=8, n_estimators=60;, score=-0.003 total time=   0.2s\n",
      "[CV 1/5] END learning_rate=0.07, max_depth=10, n_estimators=30;, score=-0.003 total time=   0.2s\n",
      "[CV 2/5] END learning_rate=0.07, max_depth=10, n_estimators=30;, score=-0.004 total time=   0.2s\n",
      "[CV 3/5] END learning_rate=0.07, max_depth=10, n_estimators=30;, score=-0.003 total time=   0.2s\n",
      "[CV 4/5] END learning_rate=0.07, max_depth=10, n_estimators=30;, score=-0.003 total time=   0.2s\n",
      "[CV 5/5] END learning_rate=0.07, max_depth=10, n_estimators=30;, score=-0.003 total time=   0.2s\n",
      "[CV 1/5] END learning_rate=0.07, max_depth=10, n_estimators=40;, score=-0.003 total time=   0.3s\n",
      "[CV 2/5] END learning_rate=0.07, max_depth=10, n_estimators=40;, score=-0.004 total time=   0.3s\n",
      "[CV 3/5] END learning_rate=0.07, max_depth=10, n_estimators=40;, score=-0.003 total time=   0.2s\n",
      "[CV 4/5] END learning_rate=0.07, max_depth=10, n_estimators=40;, score=-0.003 total time=   0.3s\n",
      "[CV 5/5] END learning_rate=0.07, max_depth=10, n_estimators=40;, score=-0.003 total time=   0.2s\n",
      "[CV 1/5] END learning_rate=0.07, max_depth=10, n_estimators=50;, score=-0.003 total time=   0.3s\n",
      "[CV 2/5] END learning_rate=0.07, max_depth=10, n_estimators=50;, score=-0.004 total time=   0.4s\n",
      "[CV 3/5] END learning_rate=0.07, max_depth=10, n_estimators=50;, score=-0.003 total time=   0.3s\n",
      "[CV 4/5] END learning_rate=0.07, max_depth=10, n_estimators=50;, score=-0.003 total time=   0.5s\n",
      "[CV 5/5] END learning_rate=0.07, max_depth=10, n_estimators=50;, score=-0.003 total time=   0.3s\n",
      "[CV 1/5] END learning_rate=0.07, max_depth=10, n_estimators=60;, score=-0.003 total time=   0.4s\n",
      "[CV 2/5] END learning_rate=0.07, max_depth=10, n_estimators=60;, score=-0.004 total time=   0.4s\n",
      "[CV 3/5] END learning_rate=0.07, max_depth=10, n_estimators=60;, score=-0.003 total time=   0.4s\n",
      "[CV 4/5] END learning_rate=0.07, max_depth=10, n_estimators=60;, score=-0.003 total time=   0.3s\n",
      "[CV 5/5] END learning_rate=0.07, max_depth=10, n_estimators=60;, score=-0.003 total time=   0.4s\n",
      "[CV 1/5] END learning_rate=0.08, max_depth=6, n_estimators=30;, score=-0.003 total time=   0.0s\n",
      "[CV 2/5] END learning_rate=0.08, max_depth=6, n_estimators=30;, score=-0.003 total time=   0.0s\n",
      "[CV 3/5] END learning_rate=0.08, max_depth=6, n_estimators=30;, score=-0.003 total time=   0.0s\n",
      "[CV 4/5] END learning_rate=0.08, max_depth=6, n_estimators=30;, score=-0.003 total time=   0.0s\n",
      "[CV 5/5] END learning_rate=0.08, max_depth=6, n_estimators=30;, score=-0.003 total time=   0.0s\n",
      "[CV 1/5] END learning_rate=0.08, max_depth=6, n_estimators=40;, score=-0.003 total time=   0.1s\n",
      "[CV 2/5] END learning_rate=0.08, max_depth=6, n_estimators=40;, score=-0.003 total time=   0.1s\n",
      "[CV 3/5] END learning_rate=0.08, max_depth=6, n_estimators=40;, score=-0.003 total time=   0.0s\n",
      "[CV 4/5] END learning_rate=0.08, max_depth=6, n_estimators=40;, score=-0.002 total time=   0.0s\n",
      "[CV 5/5] END learning_rate=0.08, max_depth=6, n_estimators=40;, score=-0.003 total time=   0.0s\n",
      "[CV 1/5] END learning_rate=0.08, max_depth=6, n_estimators=50;, score=-0.003 total time=   0.1s\n",
      "[CV 2/5] END learning_rate=0.08, max_depth=6, n_estimators=50;, score=-0.003 total time=   0.1s\n",
      "[CV 3/5] END learning_rate=0.08, max_depth=6, n_estimators=50;, score=-0.003 total time=   0.1s\n",
      "[CV 4/5] END learning_rate=0.08, max_depth=6, n_estimators=50;, score=-0.002 total time=   0.1s\n",
      "[CV 5/5] END learning_rate=0.08, max_depth=6, n_estimators=50;, score=-0.002 total time=   0.1s\n",
      "[CV 1/5] END learning_rate=0.08, max_depth=6, n_estimators=60;, score=-0.003 total time=   0.1s\n",
      "[CV 2/5] END learning_rate=0.08, max_depth=6, n_estimators=60;, score=-0.003 total time=   0.1s\n",
      "[CV 3/5] END learning_rate=0.08, max_depth=6, n_estimators=60;, score=-0.003 total time=   0.1s\n",
      "[CV 4/5] END learning_rate=0.08, max_depth=6, n_estimators=60;, score=-0.002 total time=   0.1s\n",
      "[CV 5/5] END learning_rate=0.08, max_depth=6, n_estimators=60;, score=-0.002 total time=   0.1s\n",
      "[CV 1/5] END learning_rate=0.08, max_depth=8, n_estimators=30;, score=-0.003 total time=   0.1s\n",
      "[CV 2/5] END learning_rate=0.08, max_depth=8, n_estimators=30;, score=-0.003 total time=   0.1s\n",
      "[CV 3/5] END learning_rate=0.08, max_depth=8, n_estimators=30;, score=-0.003 total time=   0.1s\n",
      "[CV 4/5] END learning_rate=0.08, max_depth=8, n_estimators=30;, score=-0.003 total time=   0.1s\n",
      "[CV 5/5] END learning_rate=0.08, max_depth=8, n_estimators=30;, score=-0.003 total time=   0.1s\n",
      "[CV 1/5] END learning_rate=0.08, max_depth=8, n_estimators=40;, score=-0.003 total time=   0.1s\n",
      "[CV 2/5] END learning_rate=0.08, max_depth=8, n_estimators=40;, score=-0.003 total time=   0.1s\n",
      "[CV 3/5] END learning_rate=0.08, max_depth=8, n_estimators=40;, score=-0.003 total time=   0.1s\n",
      "[CV 4/5] END learning_rate=0.08, max_depth=8, n_estimators=40;, score=-0.003 total time=   0.1s\n",
      "[CV 5/5] END learning_rate=0.08, max_depth=8, n_estimators=40;, score=-0.003 total time=   0.1s\n",
      "[CV 1/5] END learning_rate=0.08, max_depth=8, n_estimators=50;, score=-0.003 total time=   0.2s\n",
      "[CV 2/5] END learning_rate=0.08, max_depth=8, n_estimators=50;, score=-0.003 total time=   0.2s\n",
      "[CV 3/5] END learning_rate=0.08, max_depth=8, n_estimators=50;, score=-0.003 total time=   0.2s\n",
      "[CV 4/5] END learning_rate=0.08, max_depth=8, n_estimators=50;, score=-0.003 total time=   0.2s\n",
      "[CV 5/5] END learning_rate=0.08, max_depth=8, n_estimators=50;, score=-0.003 total time=   0.1s\n",
      "[CV 1/5] END learning_rate=0.08, max_depth=8, n_estimators=60;, score=-0.003 total time=   0.2s\n",
      "[CV 2/5] END learning_rate=0.08, max_depth=8, n_estimators=60;, score=-0.003 total time=   0.2s\n",
      "[CV 3/5] END learning_rate=0.08, max_depth=8, n_estimators=60;, score=-0.003 total time=   0.2s\n",
      "[CV 4/5] END learning_rate=0.08, max_depth=8, n_estimators=60;, score=-0.003 total time=   0.2s\n",
      "[CV 5/5] END learning_rate=0.08, max_depth=8, n_estimators=60;, score=-0.003 total time=   0.2s\n",
      "[CV 1/5] END learning_rate=0.08, max_depth=10, n_estimators=30;, score=-0.003 total time=   0.2s\n",
      "[CV 2/5] END learning_rate=0.08, max_depth=10, n_estimators=30;, score=-0.004 total time=   0.2s\n",
      "[CV 3/5] END learning_rate=0.08, max_depth=10, n_estimators=30;, score=-0.003 total time=   0.2s\n",
      "[CV 4/5] END learning_rate=0.08, max_depth=10, n_estimators=30;, score=-0.003 total time=   0.2s\n",
      "[CV 5/5] END learning_rate=0.08, max_depth=10, n_estimators=30;, score=-0.003 total time=   0.2s\n",
      "[CV 1/5] END learning_rate=0.08, max_depth=10, n_estimators=40;, score=-0.003 total time=   0.3s\n",
      "[CV 2/5] END learning_rate=0.08, max_depth=10, n_estimators=40;, score=-0.003 total time=   0.3s\n",
      "[CV 3/5] END learning_rate=0.08, max_depth=10, n_estimators=40;, score=-0.003 total time=   0.3s\n",
      "[CV 4/5] END learning_rate=0.08, max_depth=10, n_estimators=40;, score=-0.003 total time=   0.3s\n",
      "[CV 5/5] END learning_rate=0.08, max_depth=10, n_estimators=40;, score=-0.003 total time=   0.3s\n",
      "[CV 1/5] END learning_rate=0.08, max_depth=10, n_estimators=50;, score=-0.003 total time=   0.4s\n",
      "[CV 2/5] END learning_rate=0.08, max_depth=10, n_estimators=50;, score=-0.004 total time=   0.4s\n",
      "[CV 3/5] END learning_rate=0.08, max_depth=10, n_estimators=50;, score=-0.003 total time=   0.3s\n",
      "[CV 4/5] END learning_rate=0.08, max_depth=10, n_estimators=50;, score=-0.003 total time=   0.3s\n",
      "[CV 5/5] END learning_rate=0.08, max_depth=10, n_estimators=50;, score=-0.003 total time=   0.3s\n",
      "[CV 1/5] END learning_rate=0.08, max_depth=10, n_estimators=60;, score=-0.003 total time=   0.4s\n",
      "[CV 2/5] END learning_rate=0.08, max_depth=10, n_estimators=60;, score=-0.004 total time=   0.4s\n",
      "[CV 3/5] END learning_rate=0.08, max_depth=10, n_estimators=60;, score=-0.003 total time=   0.4s\n",
      "[CV 4/5] END learning_rate=0.08, max_depth=10, n_estimators=60;, score=-0.003 total time=   0.4s\n",
      "[CV 5/5] END learning_rate=0.08, max_depth=10, n_estimators=60;, score=-0.003 total time=   0.4s\n"
     ]
    }
   ],
   "source": [
    "# Realizar la búsqueda de parámetros\n",
    "grid_search = GridSearchCV(estimator=xgboost, param_grid=parameters, cv=kfold, scoring='neg_mean_squared_error', verbose = 3)\n",
    "grid_result = grid_search.fit(X_train, y)"
   ]
  },
  {
   "cell_type": "code",
   "execution_count": 15,
   "id": "81bc8305-f40b-4b57-88e4-1d968a6c0c02",
   "metadata": {},
   "outputs": [
    {
     "name": "stdout",
     "output_type": "stream",
     "text": [
      "Mejor: -0.002651 usando {'learning_rate': 0.08, 'max_depth': 6, 'n_estimators': 60}\n"
     ]
    }
   ],
   "source": [
    "# Imprimir los resultados\n",
    "print(\"Mejor: %f usando %s\" % (grid_result.best_score_, grid_result.best_params_))"
   ]
  },
  {
   "cell_type": "code",
   "execution_count": 18,
   "id": "54bc7470-8163-4cbf-97f6-602c4d2f0659",
   "metadata": {},
   "outputs": [],
   "source": [
    "kf = KFold(n_splits=5, shuffle=True, random_state=42)\n",
    "X_train_xgb_prueba = X_train.copy()\n",
    "X_train_xgb_prueba = X_train_xgb_prueba.reset_index()\n",
    "y_train_xgb_prueba = y.copy()\n",
    "y_train_xgb_prueba = y_train_xgb_prueba.reset_index()\n",
    "\n",
    "\n",
    "X_train_xgb_prueba = X_train_xgb_prueba.drop('index', axis=1)\n",
    "y_train_xgb_prueba = y_train_xgb_prueba.drop('index', axis=1)"
   ]
  },
  {
   "cell_type": "code",
   "execution_count": 19,
   "id": "ed6151af-3a58-49a9-825f-7af37356c1df",
   "metadata": {},
   "outputs": [
    {
     "name": "stdout",
     "output_type": "stream",
     "text": [
      "20\n",
      "30\n",
      "40\n",
      "50\n",
      "60\n",
      "70\n",
      "80\n",
      "90\n",
      "100\n",
      "0.0029606906843125855\n",
      "0.00034134897267280065\n"
     ]
    }
   ],
   "source": [
    "mse_test_list_total = dict()\n",
    "mse_train_list_total = dict()\n",
    "for i in [20,30,40,50,60,70,80,90,100]:\n",
    "    print(i)\n",
    "    mse_test_list = []\n",
    "    mse_train_list = []\n",
    "    for train_index, test_index in kf.split(X_train_xgb_prueba):\n",
    "        X_train_cv, X_test_cv = X_train_xgb_prueba.iloc[train_index], X_train_xgb_prueba.iloc[test_index]\n",
    "        y_train_cv, y_test_cv = y_train_xgb_prueba.iloc[train_index], y_train_xgb_prueba.iloc[test_index]\n",
    "        \n",
    "        # Inicializar el modelo de clasificación\n",
    "        xgboost_cv = xgb.XGBRegressor(learning_rate=0.08, max_depth=8, n_estimators=i)\n",
    "    \n",
    "        # Ajustar el modelo con los datos de entrenamiento\n",
    "        xgboost_cv.fit(X_train_cv, y_train_cv)\n",
    "    \n",
    "        # Hacer predicciones en los datos de prueba\n",
    "        y_pred_test_cv = xgboost_cv.predict(X_test_cv)\n",
    "        y_pred_train_cv = xgboost_cv.predict(X_train_cv)\n",
    "    \n",
    "        # Calcular la precisión y agregarla a la lista de puntuaciones\n",
    "        mse_test = mean_squared_error(y_test_cv, y_pred_test_cv)\n",
    "        mse_train = mean_squared_error(y_train_cv, y_pred_train_cv)\n",
    "        #print(y_test_cv)\n",
    "        #print(y_pred_cv)\n",
    "        mse_test_list.append(mse_test)\n",
    "        mse_train_list.append(mse_train)\n",
    "        \n",
    "    mse_cv_test = np.mean(mse_test_list)\n",
    "    mse_test_list_total[i] = mse_cv_test\n",
    "    mse_cv_train = np.mean(mse_train_list)\n",
    "    mse_train_list_total[i] = mse_cv_train\n",
    "print(mse_cv_test)\n",
    "print(mse_cv_train)\n",
    "\n",
    "df_curve = pd.DataFrame(list(mse_test_list_total.items()), columns=['Index', 'ErrorTest'])\n",
    "df_curve_2 = pd.DataFrame(list(mse_train_list_total.items()), columns=['Index', 'ErrorTrain'])\n",
    "df_curve = pd.merge(df_curve,df_curve_2,on='Index',how='left')\n",
    "#df_curve = pd.DataFrame(mse_test_list_total)"
   ]
  },
  {
   "cell_type": "code",
   "execution_count": 20,
   "id": "e5686ddf-b208-47b7-8ea6-713cb30ac83f",
   "metadata": {},
   "outputs": [
    {
     "data": {
      "text/html": [
       "<div>\n",
       "<style scoped>\n",
       "    .dataframe tbody tr th:only-of-type {\n",
       "        vertical-align: middle;\n",
       "    }\n",
       "\n",
       "    .dataframe tbody tr th {\n",
       "        vertical-align: top;\n",
       "    }\n",
       "\n",
       "    .dataframe thead th {\n",
       "        text-align: right;\n",
       "    }\n",
       "</style>\n",
       "<table border=\"1\" class=\"dataframe\">\n",
       "  <thead>\n",
       "    <tr style=\"text-align: right;\">\n",
       "      <th></th>\n",
       "      <th>Index</th>\n",
       "      <th>ErrorTest</th>\n",
       "      <th>ErrorTrain</th>\n",
       "    </tr>\n",
       "  </thead>\n",
       "  <tbody>\n",
       "    <tr>\n",
       "      <th>0</th>\n",
       "      <td>20</td>\n",
       "      <td>0.003232</td>\n",
       "      <td>0.001699</td>\n",
       "    </tr>\n",
       "    <tr>\n",
       "      <th>1</th>\n",
       "      <td>30</td>\n",
       "      <td>0.002861</td>\n",
       "      <td>0.001031</td>\n",
       "    </tr>\n",
       "    <tr>\n",
       "      <th>2</th>\n",
       "      <td>40</td>\n",
       "      <td>0.002814</td>\n",
       "      <td>0.000755</td>\n",
       "    </tr>\n",
       "    <tr>\n",
       "      <th>3</th>\n",
       "      <td>50</td>\n",
       "      <td>0.002828</td>\n",
       "      <td>0.000611</td>\n",
       "    </tr>\n",
       "    <tr>\n",
       "      <th>4</th>\n",
       "      <td>60</td>\n",
       "      <td>0.002829</td>\n",
       "      <td>0.000536</td>\n",
       "    </tr>\n",
       "    <tr>\n",
       "      <th>5</th>\n",
       "      <td>70</td>\n",
       "      <td>0.002876</td>\n",
       "      <td>0.000469</td>\n",
       "    </tr>\n",
       "    <tr>\n",
       "      <th>6</th>\n",
       "      <td>80</td>\n",
       "      <td>0.002914</td>\n",
       "      <td>0.000421</td>\n",
       "    </tr>\n",
       "    <tr>\n",
       "      <th>7</th>\n",
       "      <td>90</td>\n",
       "      <td>0.002939</td>\n",
       "      <td>0.000384</td>\n",
       "    </tr>\n",
       "    <tr>\n",
       "      <th>8</th>\n",
       "      <td>100</td>\n",
       "      <td>0.002961</td>\n",
       "      <td>0.000341</td>\n",
       "    </tr>\n",
       "  </tbody>\n",
       "</table>\n",
       "</div>"
      ],
      "text/plain": [
       "   Index  ErrorTest  ErrorTrain\n",
       "0     20   0.003232    0.001699\n",
       "1     30   0.002861    0.001031\n",
       "2     40   0.002814    0.000755\n",
       "3     50   0.002828    0.000611\n",
       "4     60   0.002829    0.000536\n",
       "5     70   0.002876    0.000469\n",
       "6     80   0.002914    0.000421\n",
       "7     90   0.002939    0.000384\n",
       "8    100   0.002961    0.000341"
      ]
     },
     "execution_count": 20,
     "metadata": {},
     "output_type": "execute_result"
    }
   ],
   "source": [
    "df_curve"
   ]
  },
  {
   "cell_type": "code",
   "execution_count": 21,
   "id": "f63571f8-d269-4195-a016-4e941f4d1e70",
   "metadata": {},
   "outputs": [
    {
     "data": {
      "text/html": [
       "\n",
       "<style>\n",
       "  #altair-viz-e36513dbd9514cc592b7621854da353e.vega-embed {\n",
       "    width: 100%;\n",
       "    display: flex;\n",
       "  }\n",
       "\n",
       "  #altair-viz-e36513dbd9514cc592b7621854da353e.vega-embed details,\n",
       "  #altair-viz-e36513dbd9514cc592b7621854da353e.vega-embed details summary {\n",
       "    position: relative;\n",
       "  }\n",
       "</style>\n",
       "<div id=\"altair-viz-e36513dbd9514cc592b7621854da353e\"></div>\n",
       "<script type=\"text/javascript\">\n",
       "  var VEGA_DEBUG = (typeof VEGA_DEBUG == \"undefined\") ? {} : VEGA_DEBUG;\n",
       "  (function(spec, embedOpt){\n",
       "    let outputDiv = document.currentScript.previousElementSibling;\n",
       "    if (outputDiv.id !== \"altair-viz-e36513dbd9514cc592b7621854da353e\") {\n",
       "      outputDiv = document.getElementById(\"altair-viz-e36513dbd9514cc592b7621854da353e\");\n",
       "    }\n",
       "    const paths = {\n",
       "      \"vega\": \"https://cdn.jsdelivr.net/npm/vega@5?noext\",\n",
       "      \"vega-lib\": \"https://cdn.jsdelivr.net/npm/vega-lib?noext\",\n",
       "      \"vega-lite\": \"https://cdn.jsdelivr.net/npm/vega-lite@5.14.1?noext\",\n",
       "      \"vega-embed\": \"https://cdn.jsdelivr.net/npm/vega-embed@6?noext\",\n",
       "    };\n",
       "\n",
       "    function maybeLoadScript(lib, version) {\n",
       "      var key = `${lib.replace(\"-\", \"\")}_version`;\n",
       "      return (VEGA_DEBUG[key] == version) ?\n",
       "        Promise.resolve(paths[lib]) :\n",
       "        new Promise(function(resolve, reject) {\n",
       "          var s = document.createElement('script');\n",
       "          document.getElementsByTagName(\"head\")[0].appendChild(s);\n",
       "          s.async = true;\n",
       "          s.onload = () => {\n",
       "            VEGA_DEBUG[key] = version;\n",
       "            return resolve(paths[lib]);\n",
       "          };\n",
       "          s.onerror = () => reject(`Error loading script: ${paths[lib]}`);\n",
       "          s.src = paths[lib];\n",
       "        });\n",
       "    }\n",
       "\n",
       "    function showError(err) {\n",
       "      outputDiv.innerHTML = `<div class=\"error\" style=\"color:red;\">${err}</div>`;\n",
       "      throw err;\n",
       "    }\n",
       "\n",
       "    function displayChart(vegaEmbed) {\n",
       "      vegaEmbed(outputDiv, spec, embedOpt)\n",
       "        .catch(err => showError(`Javascript Error: ${err.message}<br>This usually means there's a typo in your chart specification. See the javascript console for the full traceback.`));\n",
       "    }\n",
       "\n",
       "    if(typeof define === \"function\" && define.amd) {\n",
       "      requirejs.config({paths});\n",
       "      require([\"vega-embed\"], displayChart, err => showError(`Error loading script: ${err.message}`));\n",
       "    } else {\n",
       "      maybeLoadScript(\"vega\", \"5\")\n",
       "        .then(() => maybeLoadScript(\"vega-lite\", \"5.14.1\"))\n",
       "        .then(() => maybeLoadScript(\"vega-embed\", \"6\"))\n",
       "        .catch(showError)\n",
       "        .then(() => displayChart(vegaEmbed));\n",
       "    }\n",
       "  })({\"config\": {\"view\": {\"continuousWidth\": 300, \"continuousHeight\": 300}}, \"data\": {\"name\": \"data-95a0de438413ebf255838a36bcc9a39f\"}, \"mark\": {\"type\": \"line\", \"point\": true}, \"encoding\": {\"color\": {\"field\": \"variable\", \"type\": \"nominal\"}, \"x\": {\"field\": \"Index\", \"type\": \"quantitative\"}, \"y\": {\"field\": \"value\", \"type\": \"quantitative\"}}, \"height\": 400, \"title\": \"Gr\\u00e1fico de L\\u00edneas para Columnas A y B\", \"width\": 600, \"$schema\": \"https://vega.github.io/schema/vega-lite/v5.14.1.json\", \"datasets\": {\"data-95a0de438413ebf255838a36bcc9a39f\": [{\"Index\": 20, \"variable\": \"ErrorTest\", \"value\": 0.003232007934246371}, {\"Index\": 30, \"variable\": \"ErrorTest\", \"value\": 0.0028612633308569948}, {\"Index\": 40, \"variable\": \"ErrorTest\", \"value\": 0.002813696150157437}, {\"Index\": 50, \"variable\": \"ErrorTest\", \"value\": 0.002827666989130711}, {\"Index\": 60, \"variable\": \"ErrorTest\", \"value\": 0.002829183668024049}, {\"Index\": 70, \"variable\": \"ErrorTest\", \"value\": 0.0028762068878953138}, {\"Index\": 80, \"variable\": \"ErrorTest\", \"value\": 0.002913824667635319}, {\"Index\": 90, \"variable\": \"ErrorTest\", \"value\": 0.0029393575641013902}, {\"Index\": 100, \"variable\": \"ErrorTest\", \"value\": 0.0029606906843125855}, {\"Index\": 20, \"variable\": \"ErrorTrain\", \"value\": 0.0016991507811900375}, {\"Index\": 30, \"variable\": \"ErrorTrain\", \"value\": 0.0010309228685859424}, {\"Index\": 40, \"variable\": \"ErrorTrain\", \"value\": 0.0007554961105929296}, {\"Index\": 50, \"variable\": \"ErrorTrain\", \"value\": 0.0006111302940554535}, {\"Index\": 60, \"variable\": \"ErrorTrain\", \"value\": 0.0005362949403781576}, {\"Index\": 70, \"variable\": \"ErrorTrain\", \"value\": 0.00046892726966490624}, {\"Index\": 80, \"variable\": \"ErrorTrain\", \"value\": 0.00042062820141621534}, {\"Index\": 90, \"variable\": \"ErrorTrain\", \"value\": 0.0003836393428541159}, {\"Index\": 100, \"variable\": \"ErrorTrain\", \"value\": 0.00034134897267280065}]}}, {\"mode\": \"vega-lite\"});\n",
       "</script>"
      ],
      "text/plain": [
       "alt.Chart(...)"
      ]
     },
     "execution_count": 21,
     "metadata": {},
     "output_type": "execute_result"
    }
   ],
   "source": [
    "# Supongamos que tienes un DataFrame llamado 'df' con columnas \"indice\", \"columna_A\" y \"columna_B\"\n",
    "\n",
    "# Convertir el DataFrame de pandas a un formato aceptado por Altair\n",
    "df_altair = pd.melt(df_curve, id_vars=['Index'], value_vars=['ErrorTest', 'ErrorTrain'])\n",
    "\n",
    "# Crear el gráfico de líneas divididas por color en Altair\n",
    "line_chart = alt.Chart(df_altair).mark_line(point=True).encode(\n",
    "    x='Index:Q',\n",
    "    y='value:Q',\n",
    "    color='variable:N'\n",
    ").properties(\n",
    "    width=600,\n",
    "    height=400,\n",
    "    title='Gráfico de Líneas para Columnas A y B'\n",
    ")\n",
    "\n",
    "# Mostrar el gráfico\n",
    "line_chart"
   ]
  }
 ],
 "metadata": {
  "kernelspec": {
   "display_name": "Python 3 (ipykernel)",
   "language": "python",
   "name": "python3"
  },
  "language_info": {
   "codemirror_mode": {
    "name": "ipython",
    "version": 3
   },
   "file_extension": ".py",
   "mimetype": "text/x-python",
   "name": "python",
   "nbconvert_exporter": "python",
   "pygments_lexer": "ipython3",
   "version": "3.11.6"
  }
 },
 "nbformat": 4,
 "nbformat_minor": 5
}
